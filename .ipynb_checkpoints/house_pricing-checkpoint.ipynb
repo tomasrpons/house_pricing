{
 "cells": [
  {
   "cell_type": "markdown",
   "metadata": {},
   "source": [
    "# House Pricing\n",
    "Houses are expensive. For an average buyer it is quite hard to decide which house to buy. While online house retail sites somewhat alleviate that problem, the sheer amount of data that is present in them is daunting for any user. Wouldn't it be nice if there was an automated software that could predict a fair price for a house, given it's data? This is exactly why we developed this tool for.\n"
   ]
  },
  {
   "cell_type": "markdown",
   "metadata": {},
   "source": [
    "## Data description\n",
    "The first thing to do would be to take a look at our data. In this particular case, data was provided in 2 different datasets, they contain similar information, but given that they have almost the same amount of rows but a few more variables, we decided to only use the one with the most amount of information."
   ]
  },
  {
   "cell_type": "code",
   "execution_count": 182,
   "metadata": {},
   "outputs": [],
   "source": [
    "import pandas as pd\n",
    "import numpy as np"
   ]
  },
  {
   "cell_type": "code",
   "execution_count": 183,
   "metadata": {},
   "outputs": [],
   "source": [
    "df = pd.read_csv('data/housing_clean_2.csv')\n",
    "df = df.drop(columns=['Unnamed: 0'])"
   ]
  },
  {
   "cell_type": "markdown",
   "metadata": {},
   "source": [
    "Now lets see the data"
   ]
  },
  {
   "cell_type": "code",
   "execution_count": 184,
   "metadata": {},
   "outputs": [
    {
     "data": {
      "text/html": [
       "<div>\n",
       "<style scoped>\n",
       "    .dataframe tbody tr th:only-of-type {\n",
       "        vertical-align: middle;\n",
       "    }\n",
       "\n",
       "    .dataframe tbody tr th {\n",
       "        vertical-align: top;\n",
       "    }\n",
       "\n",
       "    .dataframe thead th {\n",
       "        text-align: right;\n",
       "    }\n",
       "</style>\n",
       "<table border=\"1\" class=\"dataframe\">\n",
       "  <thead>\n",
       "    <tr style=\"text-align: right;\">\n",
       "      <th></th>\n",
       "      <th>price</th>\n",
       "      <th>space</th>\n",
       "      <th>room</th>\n",
       "      <th>bedroom</th>\n",
       "      <th>furniture</th>\n",
       "      <th>latitude</th>\n",
       "      <th>longitude</th>\n",
       "      <th>city_area</th>\n",
       "      <th>floor</th>\n",
       "      <th>max_floor</th>\n",
       "      <th>apartment_type</th>\n",
       "      <th>renovation_type</th>\n",
       "      <th>balcony</th>\n",
       "    </tr>\n",
       "  </thead>\n",
       "  <tbody>\n",
       "    <tr>\n",
       "      <th>0</th>\n",
       "      <td>107100</td>\n",
       "      <td>28.0</td>\n",
       "      <td>1</td>\n",
       "      <td>1</td>\n",
       "      <td>0</td>\n",
       "      <td>41.724521</td>\n",
       "      <td>44.753788</td>\n",
       "      <td>Saburtalo District</td>\n",
       "      <td>11</td>\n",
       "      <td>11</td>\n",
       "      <td>new</td>\n",
       "      <td>newly renovated</td>\n",
       "      <td>1</td>\n",
       "    </tr>\n",
       "    <tr>\n",
       "      <th>1</th>\n",
       "      <td>257000</td>\n",
       "      <td>72.0</td>\n",
       "      <td>3</td>\n",
       "      <td>1</td>\n",
       "      <td>1</td>\n",
       "      <td>41.689502</td>\n",
       "      <td>44.820050</td>\n",
       "      <td>Isani District</td>\n",
       "      <td>15</td>\n",
       "      <td>16</td>\n",
       "      <td>new</td>\n",
       "      <td>newly renovated</td>\n",
       "      <td>0</td>\n",
       "    </tr>\n",
       "    <tr>\n",
       "      <th>2</th>\n",
       "      <td>157200</td>\n",
       "      <td>53.0</td>\n",
       "      <td>2</td>\n",
       "      <td>1</td>\n",
       "      <td>0</td>\n",
       "      <td>41.677084</td>\n",
       "      <td>44.817222</td>\n",
       "      <td>Krtsanisi District</td>\n",
       "      <td>2</td>\n",
       "      <td>4</td>\n",
       "      <td>new</td>\n",
       "      <td>white frame</td>\n",
       "      <td>1</td>\n",
       "    </tr>\n",
       "    <tr>\n",
       "      <th>3</th>\n",
       "      <td>237200</td>\n",
       "      <td>80.0</td>\n",
       "      <td>3</td>\n",
       "      <td>2</td>\n",
       "      <td>0</td>\n",
       "      <td>41.682883</td>\n",
       "      <td>44.823815</td>\n",
       "      <td>Krtsanisi District</td>\n",
       "      <td>3</td>\n",
       "      <td>4</td>\n",
       "      <td>new</td>\n",
       "      <td>white frame</td>\n",
       "      <td>1</td>\n",
       "    </tr>\n",
       "    <tr>\n",
       "      <th>4</th>\n",
       "      <td>158200</td>\n",
       "      <td>60.0</td>\n",
       "      <td>2</td>\n",
       "      <td>1</td>\n",
       "      <td>0</td>\n",
       "      <td>41.768762</td>\n",
       "      <td>44.724123</td>\n",
       "      <td>Saburtalo District</td>\n",
       "      <td>14</td>\n",
       "      <td>16</td>\n",
       "      <td>old</td>\n",
       "      <td>newly renovated</td>\n",
       "      <td>0</td>\n",
       "    </tr>\n",
       "  </tbody>\n",
       "</table>\n",
       "</div>"
      ],
      "text/plain": [
       "    price  space  room  bedroom  furniture   latitude  longitude  \\\n",
       "0  107100   28.0     1        1          0  41.724521  44.753788   \n",
       "1  257000   72.0     3        1          1  41.689502  44.820050   \n",
       "2  157200   53.0     2        1          0  41.677084  44.817222   \n",
       "3  237200   80.0     3        2          0  41.682883  44.823815   \n",
       "4  158200   60.0     2        1          0  41.768762  44.724123   \n",
       "\n",
       "            city_area  floor  max_floor apartment_type  renovation_type  \\\n",
       "0  Saburtalo District     11         11            new  newly renovated   \n",
       "1      Isani District     15         16            new  newly renovated   \n",
       "2  Krtsanisi District      2          4            new      white frame   \n",
       "3  Krtsanisi District      3          4            new      white frame   \n",
       "4  Saburtalo District     14         16            old  newly renovated   \n",
       "\n",
       "   balcony  \n",
       "0        1  \n",
       "1        0  \n",
       "2        1  \n",
       "3        1  \n",
       "4        0  "
      ]
     },
     "execution_count": 184,
     "metadata": {},
     "output_type": "execute_result"
    }
   ],
   "source": [
    "df.head(5)"
   ]
  },
  {
   "cell_type": "code",
   "execution_count": 185,
   "metadata": {},
   "outputs": [
    {
     "name": "stdout",
     "output_type": "stream",
     "text": [
      "<class 'pandas.core.frame.DataFrame'>\n",
      "RangeIndex: 29204 entries, 0 to 29203\n",
      "Data columns (total 13 columns):\n",
      " #   Column           Non-Null Count  Dtype  \n",
      "---  ------           --------------  -----  \n",
      " 0   price            29204 non-null  int64  \n",
      " 1   space            29204 non-null  float64\n",
      " 2   room             29204 non-null  int64  \n",
      " 3   bedroom          29204 non-null  int64  \n",
      " 4   furniture        29204 non-null  int64  \n",
      " 5   latitude         28958 non-null  float64\n",
      " 6   longitude        28958 non-null  float64\n",
      " 7   city_area        29204 non-null  object \n",
      " 8   floor            29204 non-null  int64  \n",
      " 9   max_floor        29204 non-null  int64  \n",
      " 10  apartment_type   29194 non-null  object \n",
      " 11  renovation_type  29204 non-null  object \n",
      " 12  balcony          29204 non-null  int64  \n",
      "dtypes: float64(3), int64(7), object(3)\n",
      "memory usage: 2.9+ MB\n"
     ]
    }
   ],
   "source": [
    "df.info()"
   ]
  },
  {
   "cell_type": "code",
   "execution_count": 186,
   "metadata": {},
   "outputs": [
    {
     "data": {
      "text/html": [
       "<div>\n",
       "<style scoped>\n",
       "    .dataframe tbody tr th:only-of-type {\n",
       "        vertical-align: middle;\n",
       "    }\n",
       "\n",
       "    .dataframe tbody tr th {\n",
       "        vertical-align: top;\n",
       "    }\n",
       "\n",
       "    .dataframe thead th {\n",
       "        text-align: right;\n",
       "    }\n",
       "</style>\n",
       "<table border=\"1\" class=\"dataframe\">\n",
       "  <thead>\n",
       "    <tr style=\"text-align: right;\">\n",
       "      <th></th>\n",
       "      <th>price</th>\n",
       "      <th>space</th>\n",
       "      <th>room</th>\n",
       "      <th>bedroom</th>\n",
       "      <th>furniture</th>\n",
       "      <th>latitude</th>\n",
       "      <th>longitude</th>\n",
       "      <th>floor</th>\n",
       "      <th>max_floor</th>\n",
       "      <th>balcony</th>\n",
       "    </tr>\n",
       "  </thead>\n",
       "  <tbody>\n",
       "    <tr>\n",
       "      <th>count</th>\n",
       "      <td>2.920400e+04</td>\n",
       "      <td>29204.000000</td>\n",
       "      <td>29204.000000</td>\n",
       "      <td>29204.000000</td>\n",
       "      <td>29204.000000</td>\n",
       "      <td>28958.000000</td>\n",
       "      <td>28958.000000</td>\n",
       "      <td>29204.000000</td>\n",
       "      <td>29204.000000</td>\n",
       "      <td>29204.000000</td>\n",
       "    </tr>\n",
       "    <tr>\n",
       "      <th>mean</th>\n",
       "      <td>2.988408e+05</td>\n",
       "      <td>87.569128</td>\n",
       "      <td>2.923298</td>\n",
       "      <td>1.819751</td>\n",
       "      <td>0.430592</td>\n",
       "      <td>41.729477</td>\n",
       "      <td>44.781414</td>\n",
       "      <td>6.361663</td>\n",
       "      <td>10.744556</td>\n",
       "      <td>0.776092</td>\n",
       "    </tr>\n",
       "    <tr>\n",
       "      <th>std</th>\n",
       "      <td>1.952151e+06</td>\n",
       "      <td>45.717693</td>\n",
       "      <td>1.050128</td>\n",
       "      <td>0.852494</td>\n",
       "      <td>0.495168</td>\n",
       "      <td>0.051541</td>\n",
       "      <td>0.083022</td>\n",
       "      <td>4.707854</td>\n",
       "      <td>5.454033</td>\n",
       "      <td>0.416868</td>\n",
       "    </tr>\n",
       "    <tr>\n",
       "      <th>min</th>\n",
       "      <td>3.300000e+03</td>\n",
       "      <td>13.000000</td>\n",
       "      <td>1.000000</td>\n",
       "      <td>0.000000</td>\n",
       "      <td>0.000000</td>\n",
       "      <td>40.469229</td>\n",
       "      <td>38.829869</td>\n",
       "      <td>0.000000</td>\n",
       "      <td>0.000000</td>\n",
       "      <td>0.000000</td>\n",
       "    </tr>\n",
       "    <tr>\n",
       "      <th>25%</th>\n",
       "      <td>1.483000e+05</td>\n",
       "      <td>57.000000</td>\n",
       "      <td>2.000000</td>\n",
       "      <td>1.000000</td>\n",
       "      <td>0.000000</td>\n",
       "      <td>41.708101</td>\n",
       "      <td>44.753788</td>\n",
       "      <td>3.000000</td>\n",
       "      <td>7.000000</td>\n",
       "      <td>1.000000</td>\n",
       "    </tr>\n",
       "    <tr>\n",
       "      <th>50%</th>\n",
       "      <td>2.142000e+05</td>\n",
       "      <td>75.000000</td>\n",
       "      <td>3.000000</td>\n",
       "      <td>2.000000</td>\n",
       "      <td>0.000000</td>\n",
       "      <td>41.724521</td>\n",
       "      <td>44.772078</td>\n",
       "      <td>5.000000</td>\n",
       "      <td>10.000000</td>\n",
       "      <td>1.000000</td>\n",
       "    </tr>\n",
       "    <tr>\n",
       "      <th>75%</th>\n",
       "      <td>3.394000e+05</td>\n",
       "      <td>105.000000</td>\n",
       "      <td>3.000000</td>\n",
       "      <td>2.000000</td>\n",
       "      <td>1.000000</td>\n",
       "      <td>41.734181</td>\n",
       "      <td>44.810649</td>\n",
       "      <td>9.000000</td>\n",
       "      <td>14.000000</td>\n",
       "      <td>1.000000</td>\n",
       "    </tr>\n",
       "    <tr>\n",
       "      <th>max</th>\n",
       "      <td>3.295100e+08</td>\n",
       "      <td>530.000000</td>\n",
       "      <td>14.000000</td>\n",
       "      <td>4.000000</td>\n",
       "      <td>1.000000</td>\n",
       "      <td>44.266066</td>\n",
       "      <td>47.238277</td>\n",
       "      <td>127.000000</td>\n",
       "      <td>113.000000</td>\n",
       "      <td>1.000000</td>\n",
       "    </tr>\n",
       "  </tbody>\n",
       "</table>\n",
       "</div>"
      ],
      "text/plain": [
       "              price         space          room       bedroom     furniture  \\\n",
       "count  2.920400e+04  29204.000000  29204.000000  29204.000000  29204.000000   \n",
       "mean   2.988408e+05     87.569128      2.923298      1.819751      0.430592   \n",
       "std    1.952151e+06     45.717693      1.050128      0.852494      0.495168   \n",
       "min    3.300000e+03     13.000000      1.000000      0.000000      0.000000   \n",
       "25%    1.483000e+05     57.000000      2.000000      1.000000      0.000000   \n",
       "50%    2.142000e+05     75.000000      3.000000      2.000000      0.000000   \n",
       "75%    3.394000e+05    105.000000      3.000000      2.000000      1.000000   \n",
       "max    3.295100e+08    530.000000     14.000000      4.000000      1.000000   \n",
       "\n",
       "           latitude     longitude         floor     max_floor       balcony  \n",
       "count  28958.000000  28958.000000  29204.000000  29204.000000  29204.000000  \n",
       "mean      41.729477     44.781414      6.361663     10.744556      0.776092  \n",
       "std        0.051541      0.083022      4.707854      5.454033      0.416868  \n",
       "min       40.469229     38.829869      0.000000      0.000000      0.000000  \n",
       "25%       41.708101     44.753788      3.000000      7.000000      1.000000  \n",
       "50%       41.724521     44.772078      5.000000     10.000000      1.000000  \n",
       "75%       41.734181     44.810649      9.000000     14.000000      1.000000  \n",
       "max       44.266066     47.238277    127.000000    113.000000      1.000000  "
      ]
     },
     "execution_count": 186,
     "metadata": {},
     "output_type": "execute_result"
    }
   ],
   "source": [
    "df.describe()"
   ]
  },
  {
   "cell_type": "markdown",
   "metadata": {},
   "source": [
    "It seems like we don't have clear outliers, so we will leave them because they might represent an outstanding (or very poor) location. Now lets plot the correlation matrix to see if we have some clear correlation between variables."
   ]
  },
  {
   "cell_type": "markdown",
   "metadata": {},
   "source": [
    "## Data Visualization"
   ]
  },
  {
   "cell_type": "code",
   "execution_count": 187,
   "metadata": {},
   "outputs": [],
   "source": [
    "# Definition of a function to visualize correlation between variables\n",
    "import seaborn as sn\n",
    "import matplotlib.pyplot as plt\n",
    "\n",
    "\n",
    "def plot_correlation(df):\n",
    "    corr_matrix = df.corr()\n",
    "    heat_map = sn.heatmap(corr_matrix, annot=False)\n",
    "    plt.show(heat_map)"
   ]
  },
  {
   "cell_type": "code",
   "execution_count": 188,
   "metadata": {},
   "outputs": [
    {
     "data": {
      "image/png": "[encoded data removed]",
      "text/plain": [
       "<Figure size 432x288 with 2 Axes>"
      ]
     },
     "metadata": {
      "needs_background": "light"
     },
     "output_type": "display_data"
    }
   ],
   "source": [
    "plot_correlation(df)"
   ]
  },
  {
   "cell_type": "markdown",
   "metadata": {},
   "source": [
    "Given that our target variable is price, we cannot see a clear correlation. Lets proceed divide the data into train and test set. Using the following graph we can see that we don't have clear outliers in our dataset."
   ]
  },
  {
   "cell_type": "code",
   "execution_count": 189,
   "metadata": {},
   "outputs": [
    {
     "data": {
      "image/png": "[encoded data removed]",
      "text/plain": [
       "<Figure size 720x720 with 100 Axes>"
      ]
     },
     "metadata": {
      "needs_background": "light"
     },
     "output_type": "display_data"
    }
   ],
   "source": [
    "pd.plotting.scatter_matrix(df, alpha=0.2, figsize=(10, 10));"
   ]
  },
  {
   "cell_type": "markdown",
   "metadata": {},
   "source": [
    "## Data preprocessing\n",
    "We will proceed to separate data into train and test. Once we have our data ready we will begin imputing and normalizing/standardizing."
   ]
  },
  {
   "cell_type": "code",
   "execution_count": 190,
   "metadata": {},
   "outputs": [],
   "source": [
    "from sklearn.model_selection import train_test_split\n",
    "\n",
    "X = df.drop(axis=1, columns='price')\n",
    "# We are using a log to reduce the scale of the prices.\n",
    "y = np.log(df['price'])\n",
    "\n",
    "X_train, X_test, y_train, y_test = train_test_split(\n",
    "    X, y, test_size=0.20, random_state=123)"
   ]
  },
  {
   "cell_type": "markdown",
   "metadata": {},
   "source": [
    "Now we will separate numerical and categorical variables"
   ]
  },
  {
   "cell_type": "code",
   "execution_count": 191,
   "metadata": {},
   "outputs": [],
   "source": [
    "# Numerical variable names\n",
    "num_var = X_train.select_dtypes(np.number).columns\n",
    "# Categorical variable names\n",
    "cat_var = X_train.select_dtypes(include=['object', 'bool']).columns"
   ]
  },
  {
   "cell_type": "markdown",
   "metadata": {},
   "source": [
    "### Data Cleaning\n",
    "This is the time to take care of missing values, we will use KNN-Imputer to deal with numerical missing values and 'most frequent' simple imputer to deal with categorical ones"
   ]
  },
  {
   "cell_type": "code",
   "execution_count": 192,
   "metadata": {},
   "outputs": [],
   "source": [
    "from sklearn.impute import SimpleImputer\n",
    "from sklearn.impute import KNNImputer\n",
    "from sklearn.compose import ColumnTransformer"
   ]
  },
  {
   "cell_type": "code",
   "execution_count": 193,
   "metadata": {},
   "outputs": [],
   "source": [
    "# Creating both numerical and categorical imputer\n",
    "t1 = ('num_imputer', KNNImputer(n_neighbors=5), num_var)\n",
    "t2 = ('cat_imputer', SimpleImputer(strategy='most_frequent'),\n",
    "      cat_var)\n",
    "\n",
    "column_transformer_cleaning = ColumnTransformer(\n",
    "    transformers=[t1, t2], remainder='passthrough')\n",
    "\n",
    "column_transformer_cleaning.fit(X_train)\n",
    "\n",
    "Train_transformed = column_transformer_cleaning.transform(X_train)\n",
    "Test_transformed = column_transformer_cleaning.transform(X_test)\n",
    "\n",
    "# Here we update the order in wich variables are located in the dataframe, given that after transforming, we will have all\n",
    "# numerical variables first, followed by all the categorical variables.\n",
    "var_order = num_var.tolist() + cat_var.tolist()\n",
    "\n",
    "# And finally we recreate the Data Frames\n",
    "X_train_clean = pd.DataFrame(Train_transformed, columns=var_order)\n",
    "X_test_clean = pd.DataFrame(Test_transformed, columns=var_order)"
   ]
  },
  {
   "cell_type": "markdown",
   "metadata": {},
   "source": [
    "### Normalizing and Enconding data\n",
    "Next step is to normalize and enconde data to achieve better performance in our models"
   ]
  },
  {
   "cell_type": "code",
   "execution_count": 194,
   "metadata": {},
   "outputs": [],
   "source": [
    "from sklearn.preprocessing import MinMaxScaler\n",
    "from sklearn.preprocessing import OneHotEncoder"
   ]
  },
  {
   "cell_type": "code",
   "execution_count": 195,
   "metadata": {},
   "outputs": [],
   "source": [
    "# We obtain the diferent values in all categorical variables\n",
    "dif_values = [df[column].dropna().unique() for column in cat_var]"
   ]
  },
  {
   "cell_type": "code",
   "execution_count": 196,
   "metadata": {},
   "outputs": [],
   "source": [
    "# Now we create the transformers\n",
    "t_norm = (\"normalizer\", MinMaxScaler(feature_range=(0, 1)), num_var)\n",
    "t_nominal = (\"onehot\", OneHotEncoder(\n",
    "    sparse=False, categories=dif_values), cat_var)\n",
    "# As the dataset isn't huge, we will set sparse=false"
   ]
  },
  {
   "cell_type": "code",
   "execution_count": 197,
   "metadata": {},
   "outputs": [],
   "source": [
    "column_transformer_norm_enc = ColumnTransformer(transformers=[t_norm, t_nominal],\n",
    "                                                remainder='passthrough')\n",
    "\n",
    "column_transformer_norm_enc.fit(X_train_clean);"
   ]
  },
  {
   "cell_type": "code",
   "execution_count": 198,
   "metadata": {},
   "outputs": [],
   "source": [
    "X_train_transformed = column_transformer_norm_enc.transform(X_train_clean)\n",
    "X_test_transformed = column_transformer_norm_enc.transform(X_test_clean)"
   ]
  },
  {
   "cell_type": "markdown",
   "metadata": {},
   "source": [
    "## Model Selection\n",
    "We will create pipelines to fine tune hyperparameters using Grid Search. This step will take place in the train set to avoid having any contact with the test set (obviously)."
   ]
  },
  {
   "cell_type": "code",
   "execution_count": 199,
   "metadata": {},
   "outputs": [],
   "source": [
    "from sklearn.metrics import mean_squared_error\n",
    "def root_mean_squared_error(y_true, y_pred):\n",
    "    ''' Root mean squared error regression loss\n",
    "    \n",
    "    Parameters\n",
    "    ----------\n",
    "    y_true : array-like of shape = (n_samples) or (n_samples, n_outputs)\n",
    "    Ground truth (correct) target values.\n",
    "\n",
    "    y_pred : array-like of shape = (n_samples) or (n_samples, n_outputs)\n",
    "    Estimated target values.\n",
    "    '''\n",
    "    return np.sqrt(mean_squared_error(y_true, y_pred, squared=True))"
   ]
  },
  {
   "cell_type": "code",
   "execution_count": 200,
   "metadata": {},
   "outputs": [],
   "source": [
    "from sklearn.metrics import r2_score, mean_absolute_error, mean_squared_log_error, mean_squared_error\n",
    "\n",
    "def reg_report(model, X, y):\n",
    "    print(f\"R2 score : {r2_score(y,model.predict(X)):.2f}\")\n",
    "    print(f\"MAE loss : {mean_absolute_error(y,model.predict(X)):.2f}\")\n",
    "    print(f\"RMSE loss : {np.sqrt(mean_squared_error(y,model.predict(X))):.2f}\")"
   ]
  },
  {
   "cell_type": "code",
   "execution_count": 201,
   "metadata": {},
   "outputs": [],
   "source": [
    "from sklearn.model_selection import validation_curve\n",
    "from sklearn.pipeline import make_pipeline\n",
    "from sklearn.metrics import make_scorer"
   ]
  },
  {
   "cell_type": "markdown",
   "metadata": {},
   "source": [
    "### Grid search for Decision Tree Regressor"
   ]
  },
  {
   "cell_type": "code",
   "execution_count": 202,
   "metadata": {},
   "outputs": [],
   "source": [
    "from sklearn import tree\n",
    "\n",
    "rmse_scorer = make_scorer(root_mean_squared_error, greater_is_better=False)\n",
    "pipe_tree = make_pipeline(tree.DecisionTreeRegressor(random_state=1))\n",
    "\n",
    "# make an array of depths to choose from, say 1 to 20\n",
    "depths = np.arange(1, 21)\n",
    "num_leafs = [1, 5, 10, 20, 50, 100]\n",
    "\n",
    "param_grid_tree = [{'decisiontreeregressor__max_depth': depths,\n",
    "                    'decisiontreeregressor__min_samples_leaf': num_leafs}]"
   ]
  },
  {
   "cell_type": "code",
   "execution_count": 203,
   "metadata": {},
   "outputs": [],
   "source": [
    "from sklearn.model_selection import GridSearchCV\n",
    "\n",
    "gs_tree = GridSearchCV(estimator=pipe_tree,\n",
    "                       param_grid=param_grid_tree, scoring=rmse_scorer, cv=10)\n",
    "best_tree = gs_tree.fit(X_train_transformed, y_train)"
   ]
  },
  {
   "cell_type": "code",
   "execution_count": 204,
   "metadata": {},
   "outputs": [],
   "source": [
    "#print(reg_report(best_tree, X_train_transformed, y_train))\n",
    "#print('Best attributes: ', best_tree.best_params_)"
   ]
  },
  {
   "cell_type": "markdown",
   "metadata": {},
   "source": [
    "Remember MAE and RMSE are compared to the logarithm of the price (**that has mean=12.34**)\n",
    "\n",
    "R2 score : 0.87  \n",
    "MAE loss : 0.15  \n",
    "RMSE loss : 0.23  \n",
    "  \n",
    "Best attributes:  {'decisiontreeregressor__max_depth': 15, 'decisiontreeregressor__min_samples_leaf': 20}  "
   ]
  },
  {
   "cell_type": "markdown",
   "metadata": {},
   "source": [
    "### Grid search for Linear Regression"
   ]
  },
  {
   "cell_type": "code",
   "execution_count": 205,
   "metadata": {},
   "outputs": [],
   "source": [
    "from sklearn.linear_model import LinearRegression\n",
    "\n",
    "pipe_lr = make_pipeline(LinearRegression())\n",
    "fit_intercept = [True, False]\n",
    "normalize = [True, False]\n",
    "copy_x = [True, False]\n",
    "\n",
    "parameters = [{'linearregression__fit_intercept': fit_intercept,\n",
    "               'linearregression__normalize': normalize, 'linearregression__copy_X': copy_x}]\n",
    "\n",
    "gs_lr = GridSearchCV(estimator=pipe_lr, param_grid=parameters,\n",
    "                     scoring=rmse_scorer, cv=10)\n",
    "best_lr=gs_lr.fit(X_train_transformed, y_train)\n"
   ]
  },
  {
   "cell_type": "code",
   "execution_count": 206,
   "metadata": {},
   "outputs": [],
   "source": [
    "#print(reg_report(best_lr, X_train_transformed, y_train))\n",
    "#print('Best attributes: ', best_tree.best_params_)"
   ]
  },
  {
   "cell_type": "markdown",
   "metadata": {},
   "source": [
    "R2 score : 0.77  \n",
    "MAE loss : 0.21  \n",
    "RMSE loss : 0.30  \n",
    "  \n",
    "Best attributes:  {'decisiontreeregressor__max_depth': 15, 'decisiontreeregressor__min_samples_leaf': 20}"
   ]
  },
  {
   "cell_type": "markdown",
   "metadata": {},
   "source": [
    "## Model Training\n",
    "Both models performed well, but our winner is **Decision Tree Classifier**. Now it's time to train that model with all of our train data to obtain the *down to earth* performance of our model."
   ]
  },
  {
   "cell_type": "code",
   "execution_count": 207,
   "metadata": {},
   "outputs": [],
   "source": [
    "model = tree.DecisionTreeRegressor(random_state=1, max_depth=15,min_samples_leaf=20)\n",
    "model.fit(X_train_transformed,y_train)\n",
    "\n",
    "y_pred = model.predict(X_test_transformed)\n",
    "\n",
    "# We use the exponencial function to show the real RMSE of the price\n",
    "RMSE = np.exp(np.sqrt(mean_squared_error(y_test, y_pred, squared=True)))"
   ]
  },
  {
   "cell_type": "code",
   "execution_count": 209,
   "metadata": {},
   "outputs": [],
   "source": [
    "#print('Real World RMSE: ',round(RMSE,4))"
   ]
  },
  {
   "cell_type": "markdown",
   "metadata": {},
   "source": [
    "Real World RMSE:  1.2905"
   ]
  },
  {
   "cell_type": "markdown",
   "metadata": {},
   "source": [
    "## Conclusion\n",
    "To conclude, we created this tool to predict house pricing based on certain parameters. We achieved a RMSE of 1.29 U$D"
   ]
  }
 ],
 "metadata": {
  "kernelspec": {
   "display_name": "Python 3",
   "language": "python",
   "name": "python3"
  },
  "language_info": {
   "codemirror_mode": {
    "name": "ipython",
    "version": 3
   },
   "file_extension": ".py",
   "mimetype": "text/x-python",
   "name": "python",
   "nbconvert_exporter": "python",
   "pygments_lexer": "ipython3",
   "version": "3.8.3"
  }
 },
 "nbformat": 4,
 "nbformat_minor": 4
}
